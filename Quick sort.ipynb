{
 "cells": [
  {
   "cell_type": "code",
   "execution_count": 3,
   "metadata": {},
   "outputs": [
    {
     "name": "stdout",
     "output_type": "stream",
     "text": [
      "unsorted random numbers:\n",
      "[28, 7, 59, 89, 43, 48, 54, 65, 46, 77]\n",
      "sorted list:\n",
      "[7, 28, 43, 46, 48, 54, 59, 65, 77, 89]\n"
     ]
    }
   ],
   "source": [
    "#Quick sort\n",
    "import random\n",
    "def Quicksort(rlist):\n",
    "    \n",
    "    if (len(rlist)>1):\n",
    "        indx= int(len(rlist)/2)\n",
    "        val= rlist[indx]\n",
    "\n",
    "        left =[ele for ele in rlist if ele <val]\n",
    "        solo =[ele for ele in rlist if ele== val]\n",
    "        right=[ele for ele in rlist if ele >val]\n",
    "\n",
    "        #recursion\n",
    "        slist = Quicksort(left) + solo + Quicksort(right)\n",
    "        return slist\n",
    "    else:\n",
    "        return rlist \n",
    "def main():\n",
    "    rlist = [random.randint(0,100) for i in range(0,10)]\n",
    "    print(f\"unsorted random numbers:\\n{rlist}\")  \n",
    "\n",
    "    slist=Quicksort(rlist)\n",
    "    print(f\"sorted list:\\n{slist}\")  \n",
    "if __name__==\"__main__\":\n",
    "    main()\n"
   ]
  },
  {
   "cell_type": "code",
   "execution_count": null,
   "metadata": {},
   "outputs": [],
   "source": []
  }
 ],
 "metadata": {
  "kernelspec": {
   "display_name": "Python 3",
   "language": "python",
   "name": "python3"
  },
  "language_info": {
   "codemirror_mode": {
    "name": "ipython",
    "version": 3
   },
   "file_extension": ".py",
   "mimetype": "text/x-python",
   "name": "python",
   "nbconvert_exporter": "python",
   "pygments_lexer": "ipython3",
   "version": "3.11.5"
  }
 },
 "nbformat": 4,
 "nbformat_minor": 2
}
