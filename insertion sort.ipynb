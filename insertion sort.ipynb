{
 "cells": [
  {
   "cell_type": "code",
   "execution_count": 5,
   "metadata": {},
   "outputs": [
    {
     "name": "stdout",
     "output_type": "stream",
     "text": [
      "unsorted :\n",
      "[12, 23, 34, 56, 78, 11]\n",
      "element '23'inserted at positon :'1\n",
      "element '34'inserted at positon :'2\n",
      "element '56'inserted at positon :'3\n",
      "element '78'inserted at positon :'4\n",
      "element '11'inserted at positon :'0\n",
      "sorted list:\n",
      "[11, 12, 23, 34, 56, 78]\n"
     ]
    }
   ],
   "source": [
    "def Insertionsort(ulist):\n",
    "\n",
    "    # Traverse through the un-sorted list (ulist)\n",
    "    for indx in range(1,len(ulist)):\n",
    "        # selected element (starting from 2nd)\n",
    "        value = ulist[indx]\n",
    "        #compare to previous elements\n",
    "        j= indx-1\n",
    "        while j>=0 and value <ulist[j]:\n",
    "            ulist[j+1]= ulist[j] #swap\n",
    "            j-=1\n",
    "        ulist[j+1] = value\n",
    "        print(f\"element '{value}'inserted at positon :'{j+1}\")\n",
    "\n",
    "def main():\n",
    "    ulist=[12,23,34,56,78,11]\n",
    "    print(f\"unsorted :\\n{ulist}\")\n",
    "\n",
    "    Insertionsort(ulist)\n",
    "    print(f\"sorted list:\\n{ulist}\") \n",
    "\n",
    "if __name__==\"__main__\":\n",
    "    main()          "
   ]
  },
  {
   "cell_type": "code",
   "execution_count": null,
   "metadata": {},
   "outputs": [],
   "source": []
  }
 ],
 "metadata": {
  "kernelspec": {
   "display_name": "Python 3",
   "language": "python",
   "name": "python3"
  },
  "language_info": {
   "codemirror_mode": {
    "name": "ipython",
    "version": 3
   },
   "file_extension": ".py",
   "mimetype": "text/x-python",
   "name": "python",
   "nbconvert_exporter": "python",
   "pygments_lexer": "ipython3",
   "version": "3.11.5"
  }
 },
 "nbformat": 4,
 "nbformat_minor": 2
}
