{
 "cells": [
  {
   "cell_type": "markdown",
   "metadata": {},
   "source": [
    "ANSWER.1\n",
    "Defining a function for a python list to convert all the alphabets  in the string to lowercase."
   ]
  },
  {
   "cell_type": "code",
   "execution_count": 32,
   "metadata": {},
   "outputs": [
    {
     "name": "stdout",
     "output_type": "stream",
     "text": [
      "['d', 'h', 'e', 'e', 'r', 'a', 'j', 'r', 'a', 'w', 'a', 't']\n",
      "sorted_list: ['a', 'a', 'a', 'd', 'e', 'e', 'h', 'j', 'r', 'r', 't', 'w']\n"
     ]
    }
   ],
   "source": [
    "# \n",
    "import random\n",
    "def lower_case(str):\n",
    "    return [i.lower() for i in str]\n",
    "    \n",
    "name=\"DHEERAJRAWAT\"\n",
    "LOWER_CASE_NAME=lower_case(name)\n",
    "print(LOWER_CASE_NAME)    \n",
    "\n",
    "def bucket_sort(arr):\n",
    "    buckets = [[] for _ in range(26)]  \n",
    "    random.seed(240)\n",
    "    for char in arr:\n",
    "        index = ord(char) - ord('a')  # Calculate index for the bucket\n",
    "        buckets[index].append(char)    # Append the character to the corresponding bucket\n",
    "    \n",
    "    sorted_list = []\n",
    "    for bucket in buckets:\n",
    "        sorted_list.extend(bucket)  # Merge all the buckets\n",
    "    \n",
    "    return sorted_list\n",
    "\n",
    "\n",
    "sorted_ulist = bucket_sort(LOWER_CASE_NAME)\n",
    "print(\"sorted_list:\",sorted_ulist)\n",
    "\n"
   ]
  },
  {
   "cell_type": "markdown",
   "metadata": {},
   "source": [
    "ANSWER 2.\n",
    "BUBBLE SORT ITERATIVE  ALGORITHM:"
   ]
  },
  {
   "cell_type": "code",
   "execution_count": 36,
   "metadata": {},
   "outputs": [
    {
     "name": "stdout",
     "output_type": "stream",
     "text": [
      "pass-0,step 0:[49, 96, 69, 55, 60, 8, 19, 67, 61, 68]\n",
      "swapped:False\n",
      "pass-0,step 1:[49, 69, 96, 55, 60, 8, 19, 67, 61, 68]\n",
      "swapped:True\n",
      "pass-0,step 2:[49, 69, 55, 96, 60, 8, 19, 67, 61, 68]\n",
      "swapped:True\n",
      "pass-0,step 3:[49, 69, 55, 60, 96, 8, 19, 67, 61, 68]\n",
      "swapped:True\n",
      "pass-0,step 4:[49, 69, 55, 60, 8, 96, 19, 67, 61, 68]\n",
      "swapped:True\n",
      "pass-0,step 5:[49, 69, 55, 60, 8, 19, 96, 67, 61, 68]\n",
      "swapped:True\n",
      "pass-0,step 6:[49, 69, 55, 60, 8, 19, 67, 96, 61, 68]\n",
      "swapped:True\n",
      "pass-0,step 7:[49, 69, 55, 60, 8, 19, 67, 61, 96, 68]\n",
      "swapped:True\n",
      "pass-0,step 8:[49, 69, 55, 60, 8, 19, 67, 61, 68, 96]\n",
      "swapped:True\n",
      "\n",
      "pass-1,step 0:[49, 69, 55, 60, 8, 19, 67, 61, 68, 96]\n",
      "swapped:False\n",
      "pass-1,step 1:[49, 55, 69, 60, 8, 19, 67, 61, 68, 96]\n",
      "swapped:True\n",
      "pass-1,step 2:[49, 55, 60, 69, 8, 19, 67, 61, 68, 96]\n",
      "swapped:True\n",
      "pass-1,step 3:[49, 55, 60, 8, 69, 19, 67, 61, 68, 96]\n",
      "swapped:True\n",
      "pass-1,step 4:[49, 55, 60, 8, 19, 69, 67, 61, 68, 96]\n",
      "swapped:True\n",
      "pass-1,step 5:[49, 55, 60, 8, 19, 67, 69, 61, 68, 96]\n",
      "swapped:True\n",
      "pass-1,step 6:[49, 55, 60, 8, 19, 67, 61, 69, 68, 96]\n",
      "swapped:True\n",
      "pass-1,step 7:[49, 55, 60, 8, 19, 67, 61, 68, 69, 96]\n",
      "swapped:True\n",
      "\n",
      "pass-2,step 0:[49, 55, 60, 8, 19, 67, 61, 68, 69, 96]\n",
      "swapped:False\n",
      "pass-2,step 1:[49, 55, 60, 8, 19, 67, 61, 68, 69, 96]\n",
      "swapped:False\n",
      "pass-2,step 2:[49, 55, 8, 60, 19, 67, 61, 68, 69, 96]\n",
      "swapped:True\n",
      "pass-2,step 3:[49, 55, 8, 19, 60, 67, 61, 68, 69, 96]\n",
      "swapped:True\n",
      "pass-2,step 4:[49, 55, 8, 19, 60, 67, 61, 68, 69, 96]\n",
      "swapped:True\n",
      "pass-2,step 5:[49, 55, 8, 19, 60, 61, 67, 68, 69, 96]\n",
      "swapped:True\n",
      "pass-2,step 6:[49, 55, 8, 19, 60, 61, 67, 68, 69, 96]\n",
      "swapped:True\n",
      "\n",
      "pass-3,step 0:[49, 55, 8, 19, 60, 61, 67, 68, 69, 96]\n",
      "swapped:False\n",
      "pass-3,step 1:[49, 8, 55, 19, 60, 61, 67, 68, 69, 96]\n",
      "swapped:True\n",
      "pass-3,step 2:[49, 8, 19, 55, 60, 61, 67, 68, 69, 96]\n",
      "swapped:True\n",
      "pass-3,step 3:[49, 8, 19, 55, 60, 61, 67, 68, 69, 96]\n",
      "swapped:True\n",
      "pass-3,step 4:[49, 8, 19, 55, 60, 61, 67, 68, 69, 96]\n",
      "swapped:True\n",
      "pass-3,step 5:[49, 8, 19, 55, 60, 61, 67, 68, 69, 96]\n",
      "swapped:True\n",
      "\n",
      "pass-4,step 0:[8, 49, 19, 55, 60, 61, 67, 68, 69, 96]\n",
      "swapped:True\n",
      "pass-4,step 1:[8, 19, 49, 55, 60, 61, 67, 68, 69, 96]\n",
      "swapped:True\n",
      "pass-4,step 2:[8, 19, 49, 55, 60, 61, 67, 68, 69, 96]\n",
      "swapped:True\n",
      "pass-4,step 3:[8, 19, 49, 55, 60, 61, 67, 68, 69, 96]\n",
      "swapped:True\n",
      "pass-4,step 4:[8, 19, 49, 55, 60, 61, 67, 68, 69, 96]\n",
      "swapped:True\n",
      "\n",
      "pass-5,step 0:[8, 19, 49, 55, 60, 61, 67, 68, 69, 96]\n",
      "swapped:False\n",
      "pass-5,step 1:[8, 19, 49, 55, 60, 61, 67, 68, 69, 96]\n",
      "swapped:False\n",
      "pass-5,step 2:[8, 19, 49, 55, 60, 61, 67, 68, 69, 96]\n",
      "swapped:False\n",
      "pass-5,step 3:[8, 19, 49, 55, 60, 61, 67, 68, 69, 96]\n",
      "swapped:False\n",
      "\n",
      "pass-6,step 0:[8, 19, 49, 55, 60, 61, 67, 68, 69, 96]\n",
      "swapped:False\n",
      "pass-6,step 1:[8, 19, 49, 55, 60, 61, 67, 68, 69, 96]\n",
      "swapped:False\n",
      "pass-6,step 2:[8, 19, 49, 55, 60, 61, 67, 68, 69, 96]\n",
      "swapped:False\n",
      "\n",
      "pass-7,step 0:[8, 19, 49, 55, 60, 61, 67, 68, 69, 96]\n",
      "swapped:False\n",
      "pass-7,step 1:[8, 19, 49, 55, 60, 61, 67, 68, 69, 96]\n",
      "swapped:False\n",
      "\n",
      "pass-8,step 0:[8, 19, 49, 55, 60, 61, 67, 68, 69, 96]\n",
      "swapped:False\n",
      "\n",
      "\n",
      "Final sorted list:\n",
      "8 19 49 55 60 61 67 68 69 96 "
     ]
    }
   ],
   "source": [
    "\n",
    "#\n",
    "#Bubble Sort (iterative)>> complexity O(n^2)\n",
    "import random \n",
    "\n",
    "\n",
    "def Bubblesort(arr):\n",
    "    size = len(arr)\n",
    "\n",
    "    for indx in range (size):\n",
    "        swapflag=False\n",
    "        # traverse through to compare elements\n",
    "        for ii in range(0,size-1-indx):\n",
    "            #swap if the e_current > e_next\n",
    "            if arr[ii] >= arr[ii+1]:\n",
    "                arr[ii],arr[ii+1]=arr[ii+1],arr[ii]\n",
    "                swapflag=True\n",
    "            \n",
    "            #steps\n",
    "            print(f\"pass-{indx},step {ii}:{arr}\")\n",
    "            print(f\"swapped:{swapflag}\")\n",
    "\n",
    "        print('')\n",
    "\n",
    "def main():\n",
    "    random.randint(0,10)  \n",
    "    arr = [random.randint(0,99) for _ in range(10)]\n",
    "    Bubblesort(arr)\n",
    "    print(\"Final sorted list:\")\n",
    "    for i in range(len(arr)):\n",
    "        print(arr[i], end=' ')\n",
    "\n",
    "if __name__== '__main__':\n",
    "    main()                  \n",
    "\n"
   ]
  },
  {
   "cell_type": "markdown",
   "metadata": {},
   "source": [
    "ANSWER 2.(a)\n",
    "UNSTABLE BUBBLE SORT RECURSIVE FUNCTION FOR SORTING THE RANDOM INTEGERS "
   ]
  },
  {
   "cell_type": "code",
   "execution_count": 30,
   "metadata": {},
   "outputs": [
    {
     "name": "stdout",
     "output_type": "stream",
     "text": [
      "Original array: [2, 2, 3, 7, 8, 0, 7, 3, 2, 3]\n",
      "Sorted array using unstable bubble sort (recursive): [0, 2, 2, 2, 3, 3, 3, 7, 7, 8]\n"
     ]
    }
   ],
   "source": [
    "# Bubble sort recursive function\n",
    "\n",
    "import random\n",
    "\n",
    "def unstable_bubble_sort_recursive(arr, n):\n",
    "    if n == 1:\n",
    "        return\n",
    "    for i in range(n-1):\n",
    "        if arr[i] > arr[i+1]:\n",
    "            arr[i], arr[i+1] = arr[i+1], arr[i]\n",
    "    unstable_bubble_sort_recursive(arr, n-1)\n",
    "\n",
    "\n",
    "def generate_random_array(n):\n",
    "    return [random.randint(0, n) for _ in range(n)]\n",
    "\n",
    "n = 10  \n",
    "arr = generate_random_array(n)\n",
    "print(\"Original array:\", arr)\n",
    "\n",
    "unstable_bubble_sort_recursive(arr, n)\n",
    "print(\"Sorted array using unstable bubble sort (recursive):\", arr)"
   ]
  },
  {
   "cell_type": "markdown",
   "metadata": {},
   "source": [
    "ANSWER 2.(b) CHECKING THE TIME COMPLEXITY FOR THE BOTH ALGOERITHMS "
   ]
  },
  {
   "cell_type": "code",
   "execution_count": 34,
   "metadata": {},
   "outputs": [
    {
     "data": {
      "image/png": "[encoded data removed]",
      "text/plain": [
       "<Figure size 1000x600 with 1 Axes>"
      ]
     },
     "metadata": {},
     "output_type": "display_data"
    }
   ],
   "source": [
    "import random\n",
    "import time\n",
    "import matplotlib.pyplot as plt\n",
    "\n",
    "def unstable_bubble_sort_iterative(arr):\n",
    "    n = len(arr)\n",
    "    for i in range(n):\n",
    "        for j in range(0, n-i-1):\n",
    "            if arr[j] > arr[j+1]:\n",
    "                arr[j], arr[j+1] = arr[j+1], arr[j]\n",
    "\n",
    "def unstable_bubble_sort_recursive(arr, n):\n",
    "    if n == 1:\n",
    "        return\n",
    "    for i in range(n-1):\n",
    "        if arr[i] > arr[i+1]:\n",
    "            arr[i], arr[i+1] = arr[i+1], arr[i]\n",
    "    unstable_bubble_sort_recursive(arr, n-1)\n",
    "\n",
    "def generate_random_array(n):\n",
    "    return [random.randint(0, n) for _ in range(n)]\n",
    "\n",
    "n_values = list(range(100, 1001, 100))\n",
    "iterative_times = []\n",
    "recursive_times = []\n",
    "\n",
    "for n in n_values:\n",
    "    arr = generate_random_array(n)\n",
    "    \n",
    "    start_time = time.time()\n",
    "    unstable_bubble_sort_iterative(arr.copy())\n",
    "    end_time = time.time()\n",
    "    iterative_times.append((end_time - start_time) * 1000)  \n",
    "    \n",
    "    start_time = time.time()\n",
    "    unstable_bubble_sort_recursive(arr.copy(), n)\n",
    "    end_time = time.time()\n",
    "    recursive_times.append((end_time - start_time) * 1000)  \n",
    "\n",
    "plt.figure(figsize=(10, 6))\n",
    "plt.plot(n_values, iterative_times, label='Iterative Bubble Sort')\n",
    "plt.plot(n_values, recursive_times, label='Recursive Bubble Sort')\n",
    "plt.xlabel('Size of Array (n)')\n",
    "plt.ylabel('Execution Time (ms)')\n",
    "plt.title('Comparison of Unstable Bubble Sort Algorithms')\n",
    "plt.legend()\n",
    "plt.grid(True)\n",
    "plt.show()"
   ]
  },
  {
   "cell_type": "markdown",
   "metadata": {},
   "source": [
    "3(a). INFIX TO POSTFIX EXPRESSION USING THE PRIORITY QUEUE DATA"
   ]
  },
  {
   "cell_type": "code",
   "execution_count": 37,
   "metadata": {},
   "outputs": [
    {
     "name": "stdout",
     "output_type": "stream",
     "text": [
      "Postfix expression: x1x2y1x3/*-ab^+\n"
     ]
    }
   ],
   "source": [
    "class PriorityQueue:\n",
    "    def _init_(self):\n",
    "        self.items = []\n",
    "\n",
    "    def is_empty(self):\n",
    "        return len(self.items) == 0\n",
    "\n",
    "    def enqueue(self, item, priority):\n",
    "        self.items.append((item, priority))\n",
    "\n",
    "    def dequeue(self):\n",
    "        if not self.is_empty():\n",
    "            return self.items.pop(0)\n",
    "\n",
    "    def peek(self):\n",
    "        if not self.is_empty():\n",
    "            return self.items[0]\n",
    "\n",
    "def infix_to_postfix(expression):\n",
    "    operator_priority = {'+': 1, '-': 1, '*': 2, '/': 2, '^': 3}\n",
    "\n",
    "    output = []\n",
    "    stack = []\n",
    "\n",
    "    for char in expression:\n",
    "        if char.isalnum():\n",
    "            output.append(char)\n",
    "        elif char == '(':\n",
    "            stack.append(char)\n",
    "        elif char == ')':\n",
    "            while stack and stack[-1] != '(':\n",
    "                output.append(stack.pop())\n",
    "            stack.pop()  # Remove '('\n",
    "        else:\n",
    "            while stack and stack[-1] != '(' and operator_priority.get(stack[-1], 0) >= operator_priority[char]:\n",
    "                output.append(stack.pop())\n",
    "            stack.append(char)\n",
    "\n",
    "    while stack:\n",
    "        output.append(stack.pop())\n",
    "\n",
    "    return ''.join(output)\n",
    "\n",
    "# Given infix expression\n",
    "infix_expression = \"x1-x2*(y1/x3)+a^b\"\n",
    "\n",
    "# Convert to postfix\n",
    "postfix_expression = infix_to_postfix(infix_expression)\n",
    "print(\"Postfix expression:\", postfix_expression)"
   ]
  },
  {
   "cell_type": "markdown",
   "metadata": {},
   "source": [
    "3.(b)FINDING THE RESULT OF THE POSTFIX EXPRESSION "
   ]
  },
  {
   "cell_type": "code",
   "execution_count": 1,
   "metadata": {},
   "outputs": [
    {
     "name": "stdout",
     "output_type": "stream",
     "text": [
      "Result: 9.0\n"
     ]
    }
   ],
   "source": [
    "def evaluate_postfix(expression, values):\n",
    "    stack = []\n",
    "\n",
    "    for char in expression:\n",
    "        if char.isalnum():\n",
    "            stack.append(values[char])\n",
    "        else:\n",
    "            operand2 = stack.pop()\n",
    "            operand1 = stack.pop()\n",
    "            if char == '+':\n",
    "                stack.append(operand1 + operand2)\n",
    "            elif char == '-':\n",
    "                stack.append(operand1 - operand2)\n",
    "            elif char == '*':\n",
    "                stack.append(operand1 * operand2)\n",
    "            elif char == '/':\n",
    "                stack.append(operand1 / operand2)\n",
    "            elif char == '^':\n",
    "                stack.append(operand1 ** operand2)\n",
    "\n",
    "    return stack.pop()\n",
    "\n",
    "#we are changing the given values to the \"mnop\" from \"x1x2y1x3\"\n",
    "postfix_expression = \"mnop/*-ab^+\"\n",
    "\n",
    "# Given values\n",
    "values = {'m': 6, 'n': 3, 'p': 5, 'o': 10, 'a': 3, 'b': 2}\n",
    "\n",
    "# Evaluate postfix expression\n",
    "result = evaluate_postfix(postfix_expression, values)\n",
    "print(\"Result:\", result)"
   ]
  },
  {
   "cell_type": "code",
   "execution_count": null,
   "metadata": {},
   "outputs": [],
   "source": []
  }
 ],
 "metadata": {
  "kernelspec": {
   "display_name": "Python 3",
   "language": "python",
   "name": "python3"
  },
  "language_info": {
   "codemirror_mode": {
    "name": "ipython",
    "version": 3
   },
   "file_extension": ".py",
   "mimetype": "text/x-python",
   "name": "python",
   "nbconvert_exporter": "python",
   "pygments_lexer": "ipython3",
   "version": "3.11.5"
  }
 },
 "nbformat": 4,
 "nbformat_minor": 2
}
